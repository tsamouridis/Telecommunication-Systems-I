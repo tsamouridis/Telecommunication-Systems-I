{
 "cells": [
  {
   "cell_type": "markdown",
   "metadata": {},
   "source": [
    "# Διαμόρφωση Πλάτους - Amplitude Modulation"
   ]
  },
  {
   "cell_type": "markdown",
   "metadata": {},
   "source": [
    "Στην διαμόρφωση Πλάτους, η πληροφορία αποτυπώνεται στο πλάτος του διαμορφωμένου σήματος"
   ]
  },
  {
   "cell_type": "markdown",
   "metadata": {},
   "source": [
    "## Διαμόρφωση πλάτους διπλής πλευρικής ζώνης με συνολικό φέρον <br> Double Side Band-Amplitude Modulation-Total Carrier (DSB - AM-TC)"
   ]
  },
  {
   "cell_type": "code",
   "execution_count": null,
   "metadata": {},
   "outputs": [],
   "source": [
    "import numpy as np\n",
    "import matplotlib.pyplot as plt\n",
    "import matplotlib\n",
    "\n",
    "plt.rcParams[\"figure.figsize\"] = (20,3)\n",
    "matplotlib.rcParams[\"text.usetex\"]\n",
    "matplotlib.rcParams['mathtext.fontset'] = 'cm'\n",
    "legend_properties = {'weight':'bold'}"
   ]
  },
  {
   "cell_type": "markdown",
   "metadata": {},
   "source": [
    "### Το σήμα πληροφορίας\n",
    "Έστω ότι το σήμα πληροφορίας είναι το σήμα:\n",
    "\n",
    "$ m(t) = 2 \\cdot cos(2\\pi f_m \\cdot t) $ \n",
    "\n",
    "με συχνότητα $ f_m = 0.125 $ Hz και πλάτος $ a = 2 $ "
   ]
  },
  {
   "cell_type": "code",
   "execution_count": null,
   "metadata": {},
   "outputs": [],
   "source": [
    "fm = 0.125\n",
    "a = 2\n",
    "\n",
    "t = np.linspace(0,20, 1000)\n",
    "m = lambda t: a*np.cos(2*np.pi*fm*t)\n",
    "plt.plot(t, m(t))\n",
    "plt.grid()\n",
    "plt.title('m(t): Το Αρχικό Σήμα - Σήμα Πληροφορίας')\n",
    "plt.xlabel('t')\n",
    "plt.show()"
   ]
  },
  {
   "cell_type": "markdown",
   "metadata": {},
   "source": [
    "### Το σήμα του φέροντος\n",
    "Θεωρούμε σήμα φέροντος\n",
    "\n",
    "$ c(t) = 4 \\cdot cos(2\\pi f_c \\cdot t) $\n",
    "\n",
    "με συχνότητα $ f_c = 2 $ Hz"
   ]
  },
  {
   "cell_type": "code",
   "execution_count": null,
   "metadata": {},
   "outputs": [],
   "source": [
    "Ac = 4\n",
    "fc = 2\n",
    "\n",
    "c = lambda t:Ac*np.cos(2*np.pi*fc*t)\n",
    "plt.plot(t, c(t))\n",
    "plt.grid()\n",
    "plt.title('c(t): Φέρον Σήμα')\n",
    "plt.xlabel('t')\n",
    "plt.show()"
   ]
  },
  {
   "cell_type": "markdown",
   "metadata": {},
   "source": [
    "### Διαμορφωμένο σήμα\n",
    "Το διαμορφωμένο σήμα δίνεται από τον τύπο:\n",
    "\n",
    "$ x(t) = [A_c + m(t)] \\cdot cos(2 \\pi f_c \\cdot t) $\n",
    "\n",
    "Στο παράδειγμά μας θα είναι: \n",
    "\n",
    "$ x(t) = [2 + 2 \\cdot cos(2\\pi\\cdot0.125\\cdot t)] \\cdot cos(2 \\pi \\cdot 2 \\cdot t) $"
   ]
  },
  {
   "cell_type": "code",
   "execution_count": null,
   "metadata": {},
   "outputs": [],
   "source": [
    "x = lambda t:(Ac+m(t))*np.cos(2*np.pi*fc*t)\n",
    "plt.plot(t, x(t), label = 'Διαμορφωμένο σήμα')\n",
    "plt.plot(t, abs(m(t)+Ac), label = 'Πληροφορία στο Διαμορφωμένο Σήμα')\n",
    "plt.grid()\n",
    "plt.title('Διαμορφωμένο Σήμα')\n",
    "plt.xlabel('t')\n",
    "plt.legend(loc = 'lower right')\n",
    "plt.show()"
   ]
  },
  {
   "cell_type": "markdown",
   "metadata": {},
   "source": [
    "### Δείκτης διαμόρφωσης\n",
    "Ως δείκτη διαμόρφωσης (modulation index) ορίζουμε το \n",
    "\n",
    "$ \\mu = \\frac{|min(m(t))|}{A_c} $\n",
    "\n",
    "Η υπερδιαμόρφωση αφορά το φαινόμενο στο οποίο έχουμε παραμόρφωση της περιβάλλουσας, με αποτέλεσμα να χάνεται το σήμα πληροφορίας. Για να αποφευχθεί η υπερδιαμόρφωση (overmodulation), θα πρέπει $ \\mu \\le 1 $"
   ]
  },
  {
   "cell_type": "code",
   "execution_count": null,
   "metadata": {},
   "outputs": [],
   "source": [
    "#modulation index μ\n",
    "m_min = abs(min(m(t)))\n",
    "modulationIndex_init = m_min/Ac\n",
    "print('Μodulation index used above:', str(modulationIndex_init), '< 1')"
   ]
  },
  {
   "cell_type": "markdown",
   "metadata": {},
   "source": [
    "### Υπερδιαμόρφωση\n",
    "Μεταβάλλουμε το πλάτος του φέροντος, ώστε να προκαλέσουμε υπερδιαμόρφωση. Τα νέα δεδομένα τυπώνονται παρακάτω."
   ]
  },
  {
   "cell_type": "code",
   "execution_count": null,
   "metadata": {},
   "outputs": [],
   "source": [
    "print('Initial Ac:', str(Ac),'with modulation index:', str(modulationIndex_init))\n",
    "Ac_new = 1\n",
    "modulationIndex = m_min/Ac_new\n",
    "print('New Ac:', str(Ac_new),'with modulation index:', str(modulationIndex))"
   ]
  },
  {
   "cell_type": "markdown",
   "metadata": {},
   "source": [
    "#### Για μ > 1\n",
    "Όπως φαίνεται στο παρακάτω γράφημα, η περιβάλλουσα δεν διατηρεί τα δεδομένα του αρχικού σήματος"
   ]
  },
  {
   "cell_type": "code",
   "execution_count": null,
   "metadata": {},
   "outputs": [],
   "source": [
    "x_overmod = lambda t: (Ac_new+m(t))*np.cos(2*np.pi*fc*t)\n",
    "plt.plot(t, x_overmod(t), label = 'Διαμορφωμένο σήμα με μ > 1')\n",
    "plt.plot(t, abs(m(t)+Ac_new), label = 'Πληροφορία στο Διαμορφωμένο Σήμα', lw = 5, ls = '--')\n",
    "plt.plot(t, m(t)+Ac_new, label = 'Προσδοκώμενη Πληροφορία')\n",
    "plt.grid()\n",
    "plt.title('Διαμορφωμένο Σήμα με μ = 2')\n",
    "plt.xlabel('t')\n",
    "plt.legend(loc = 'lower right')\n",
    "plt.show()"
   ]
  },
  {
   "cell_type": "markdown",
   "metadata": {},
   "source": [
    "#### Για μ < 1\n",
    "Αν το μ προκύψει $ \\le $ 1, δεν υπάρχει απώλεια πληροφορίας, όπως φαίνεται παρακάτω:"
   ]
  },
  {
   "cell_type": "code",
   "execution_count": null,
   "metadata": {},
   "outputs": [],
   "source": [
    "print('Initial Ac:', str(Ac),'with modulation index:', str(modulationIndex_init))\n",
    "Ac_new = 6\n",
    "modulationIndex = m_min/Ac_new\n",
    "print('New Ac:', str(Ac_new),'with modulation index:', str(modulationIndex))"
   ]
  },
  {
   "cell_type": "code",
   "execution_count": null,
   "metadata": {},
   "outputs": [],
   "source": [
    "x_new = lambda t: (Ac_new+m(t))*np.cos(2*np.pi*fc*t)\n",
    "# plt.plot(t, x(t), label = 'Διαμορφωμένο σήμα')\n",
    "plt.plot(t, x_new(t), label = 'Διαμορφωμένο Σήμα')\n",
    "plt.plot(t, abs(m(t)+Ac_new), label = 'Πληροφορία στο Διαμορφωμένο Σήμα')\n",
    "plt.grid()\n",
    "plt.title('Διαμορφωμένο Σήμα  με μ = 0.333...')\n",
    "plt.xlabel('t')\n",
    "plt.legend(loc = 'lower right')\n",
    "plt.show()"
   ]
  },
  {
   "cell_type": "markdown",
   "metadata": {},
   "source": [
    "#### Στην οριακή περίπτωση για μ = 1"
   ]
  },
  {
   "cell_type": "code",
   "execution_count": null,
   "metadata": {},
   "outputs": [],
   "source": [
    "modulationIndex = m_min/Ac\n",
    "print('Initial Ac:', str(Ac),'with modulation index:', str(modulationIndex_init))\n",
    "Ac_new = 2\n",
    "modulationIndex = m_min/Ac_new\n",
    "print('New Ac:', str(Ac_new),'with modulation index:', str(modulationIndex))"
   ]
  },
  {
   "cell_type": "code",
   "execution_count": null,
   "metadata": {},
   "outputs": [],
   "source": [
    "x_new = lambda t: (Ac_new+m(t))*np.cos(2*np.pi*fc*t)\n",
    "# plt.plot(t, x(t), label = 'Διαμορφωμένο σήμα')\n",
    "plt.plot(t, x_new(t), label = 'Διαμορφωμένο Σήμα στην οριακή περίπτωση που μ=1')\n",
    "plt.plot(t, abs(m(t)+Ac_new), label = 'Πληροφορία στο Διαμορφωμένο Σήμα')\n",
    "plt.grid()\n",
    "plt.title('Διαμορφωμένο Σήμα με μ = 1')\n",
    "plt.xlabel('t')\n",
    "plt.legend(loc = 'lower right')\n",
    "plt.show()"
   ]
  },
  {
   "cell_type": "markdown",
   "metadata": {},
   "source": [
    "### Σύνοψη\n",
    "\n",
    "* Σήμα πληροφορίας:     &emsp;  $ m(t) = 2 \\cdot cos(0.25 \\pi \\cdot t) $ \n",
    "* Φέρον Σήμα:           &emsp;  $ c(t) = 4 \\cdot cos(4 \\pi \\cdot t) $\n",
    "* Διαμορφωμένο Σήμα:    &emsp;  $ x(t) = [2 + 2 \\cdot cos(0.25 \\pi \\cdot t)] \\cdot cos(4 \\pi \\cdot t) $"
   ]
  },
  {
   "attachments": {
    "C.png": {
     "image/png": "[encoded data removed]"
    },
    "M.png": {
     "image/png": "[encoded data removed]"
    },
    "X.png": {
     "image/png": "[encoded data removed]"
    }
   },
   "cell_type": "markdown",
   "metadata": {},
   "source": [
    "### Μετασχηματισμοί Fourier\n",
    "Εκτελούμε τους μετασχηματισμούς Fourier για τα τρία παραπάνω σήματα και προκύπτουν τα εξής:\n",
    "\n",
    "$ M(\\omega) = 2 \\pi(\\delta(\\omega - 0.25\\pi) + \\delta(\\omega + 0.25\\pi)) $\n",
    "\n",
    "$ C(\\omega) = 4 \\pi(\\delta(\\omega - 4\\pi) + \\delta(\\omega + 4\\pi)) $\n",
    "\n",
    "$ X(\\omega) = 2 \\pi(\\delta(\\omega - 4\\pi) + \\delta(\\omega + 4\\pi)) +  \\pi(\\delta(\\omega - 4.25\\pi) + \\delta(\\omega + 4.25\\pi)) + \\pi(\\delta(\\omega - 3.75\\pi) + \\delta(\\omega + 3.75\\pi)) $\n",
    "\n",
    "Οι γραφικές παραστάσεις των παραπάνω φαίνονται παρακάτω:\n",
    "\n",
    "![M.png](attachment:M.png)![C.png](attachment:C.png)![X.png](attachment:X.png)"
   ]
  },
  {
   "cell_type": "markdown",
   "metadata": {},
   "source": [
    "## Διαμόρφωση πλάτους διπλής πλευρικής ζώνης με καταργημένο φέρον <br> Double Side Band-Amplitude Modulation-Suppressed Carrier (DSB-AM-SC)\n",
    "Σε αυτή την διαμόρφωση στο διαμορφωμένο σήμα απουσιάζει ο όρος $ A_c \\cdot cos(2\\pi f_c t) $, η συνιστώσα του φέροντος, οπότε το διαμορφωμένο σήμα έχει την μορφή:\n",
    "$ x(t) = A_c\\cdot m(t)cos(2\\pi f_c t) $ "
   ]
  },
  {
   "cell_type": "markdown",
   "metadata": {},
   "source": [
    "Για σήμα πληροφορίας:\n",
    "\n",
    "$ m(t) = 2 \\cdot cos(2\\pi f_m \\cdot t) $\n",
    "\n",
    "και φέρον:\n",
    "\n",
    "$ c(t) = 4 \\cdot cos(2\\pi f_c \\cdot t) $\n",
    "\n",
    "έχουμε το διαμορφωμένο σήμα:\n",
    "\n",
    "$ x(t) = 8 \\cdot cos(2\\pi f_m \\cdot t) \\cdot cos(2\\pi f_c \\cdot t) $\n",
    "\n",
    "και η πληροφορία βρίσκεται στην καμπύλη $ A_c \\cdot |m(t)| $, δηλαδή όταν το σήμα πληροφορίας αλλάζει πρόσημο, στο  διαμορφωμένο σήμα έχουμε αντιστροφή φάσης. Άρα η περιβάλλουσα διαφέρει από το αρχικό σήμα μας"
   ]
  },
  {
   "cell_type": "code",
   "execution_count": null,
   "metadata": {},
   "outputs": [],
   "source": [
    "print(fm)\n",
    "print(fc)\n",
    "x = lambda t: 8*np.cos(2*np.pi*fm*t)*np.cos(2*np.pi*fc*t)\n",
    "plt.plot(t, x(t), label = 'Διαμορφωμένο σήμα')\n",
    "plt.plot(t, Ac*abs(m(t)), label = 'Πληροφορία στο Διαμορφωμένο Σήμα')\n",
    "plt.grid()\n",
    "plt.title('Διαμορφωμένο Σήμα')\n",
    "plt.xlabel('t')\n",
    "plt.legend(loc = 'lower right')\n",
    "plt.show()"
   ]
  },
  {
   "cell_type": "markdown",
   "metadata": {},
   "source": [
    "### Στο πεδίο της συχνότητας θα έχουμε:\n",
    "\n",
    "$ M(\\omega) = 2 \\pi(\\delta(\\omega - 0.25\\pi) + \\delta(\\omega + 0.25\\pi)) $\n",
    "\n",
    "$ X(\\omega) = 4 \\pi(\\delta(\\omega - 4.25 \\pi) + \\delta(\\omega + 4.25 \\pi)) + (\\delta(\\omega - 3.75 \\pi) + \\delta(\\omega + 3.75\\pi)) $\n",
    "\n",
    "* Παρατηρούμε ότι στο διαμορφωμένο σήμα απουσιάζουν οι ώσεις στα $ \\pm 2 \\pi f_c = \\pm 4 \\pi $"
   ]
  },
  {
   "cell_type": "markdown",
   "metadata": {},
   "source": [
    "## Διαμόρφωση πλάτους απλής πλευρικής ζώνης <br> Single Side Band-Amplitude Modulation (SSB-AM)"
   ]
  },
  {
   "cell_type": "markdown",
   "metadata": {},
   "source": [
    "Για την ανάκτηση της πληροφορίας στον δέκτη απαιτείται η αποστολή της μίας εκ των δύο πλευρικών. Για αυτόν τον λόγο το σήμα $ m(t) $ μπορεί να διαμορφωθεί και με τον παρακάτω τρόπο:\n",
    "\n",
    "$ x(t) = A_c \\cdot m(t) * cos(2 \\pi f_c t) \\mp  A_c*\\hat{m}(t)\\cdot sin(2\\pi f_ct)$, όπου:\n",
    "\n",
    "* $ \\hat{m}(t) $: ο μετασχηματισμός Hilbert του $ m(t) $\n",
    "* Στο $ \\mp $ χρησιμοποιούμε το + για να μεταδώσουμε την κάτω πλευρική, ενώ - για την άνω"
   ]
  },
  {
   "cell_type": "markdown",
   "metadata": {},
   "source": [
    "## Διαμόρφωση πλάτους απλής πλευρικής ζώνης με κατάλοιπο <br> Vestigal Side Band-Amplitude Modulation (VSB-AM)\n",
    "Λόγω της μη ιδανικής φύσης των φίλτρων, χρησιμοποιείται η παραπάνω διαμόρφωση στην οποία δεν αποκόπτεται ολόκληρη η μία  εκ των δύο πλευρικές ζώνες, αλλά παραμένει ένα μικρό κατάλοιπο."
   ]
  }
 ],
 "metadata": {
  "kernelspec": {
   "display_name": "Python 3",
   "language": "python",
   "name": "python3"
  },
  "language_info": {
   "codemirror_mode": {
    "name": "ipython",
    "version": 3
   },
   "file_extension": ".py",
   "mimetype": "text/x-python",
   "name": "python",
   "nbconvert_exporter": "python",
   "pygments_lexer": "ipython3",
   "version": "3.8.5"
  }
 },
 "nbformat": 4,
 "nbformat_minor": 4
}

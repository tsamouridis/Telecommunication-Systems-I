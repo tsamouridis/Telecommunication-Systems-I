{
 "cells": [
  {
   "cell_type": "markdown",
   "metadata": {},
   "source": [
    "# Διαμόρφωση Γωνίας - Angle Modulation"
   ]
  },
  {
   "cell_type": "markdown",
   "metadata": {},
   "source": [
    "Στην διαμόρφωση γωνίας, η πληροφορία αποτυπώνεται στην γωνία του διαμορφωμένου σήματος. Συγκεκριμένα, το διαμορφωμένο σήμα έχει την μορφή:\n",
    "\n",
    "$ x(t) = A_c cos(\\theta(t)) $ \n",
    "\n",
    "όπου $ \\theta(t) = 2 \\pi f_c t + \\phi(t) $ με $ f_c $ η συχνότητα του φέροντος και $ \\phi(t) $ η φάση."
   ]
  },
  {
   "cell_type": "markdown",
   "metadata": {},
   "source": [
    "## Διαμόρφωση Φάσης - Phase Modulation (PM) "
   ]
  },
  {
   "cell_type": "code",
   "execution_count": null,
   "metadata": {},
   "outputs": [],
   "source": []
  }
 ],
 "metadata": {
  "kernelspec": {
   "display_name": "Python 3",
   "language": "python",
   "name": "python3"
  },
  "language_info": {
   "codemirror_mode": {
    "name": "ipython",
    "version": 3
   },
   "file_extension": ".py",
   "mimetype": "text/x-python",
   "name": "python",
   "nbconvert_exporter": "python",
   "pygments_lexer": "ipython3",
   "version": "3.8.5"
  }
 },
 "nbformat": 4,
 "nbformat_minor": 4
}
